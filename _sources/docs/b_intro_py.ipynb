{
 "cells": [
  {
   "cell_type": "markdown",
   "id": "d6931c0f",
   "metadata": {},
   "source": [
    "(b_intro_py)=\n",
    "\n",
    "# Welcome - Let's get started\n",
    "\n",
    "This section will answer a few basic questions about python:\n",
    "- What is python?\n",
    "- How do we use it?\n",
    "- How can we extend its functionality?"
   ]
  }
 ],
 "metadata": {
  "jupytext": {
   "text_representation": {
    "extension": ".md",
    "format_name": "myst"
   }
  },
  "kernelspec": {
   "display_name": "Python 3",
   "language": "python",
   "name": "python3"
  },
  "language_info": {
   "codemirror_mode": {
    "name": "ipython",
    "version": 3
   },
   "file_extension": ".py",
   "mimetype": "text/x-python",
   "name": "python",
   "nbconvert_exporter": "python",
   "pygments_lexer": "ipython3",
   "version": "3.10.9"
  },
  "source_map": [
   10
  ]
 },
 "nbformat": 4,
 "nbformat_minor": 5
}